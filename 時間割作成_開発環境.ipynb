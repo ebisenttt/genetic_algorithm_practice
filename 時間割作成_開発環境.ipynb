{
  "nbformat": 4,
  "nbformat_minor": 0,
  "metadata": {
    "colab": {
      "name": "時間割作成_開発環境.ipynb",
      "provenance": [],
      "collapsed_sections": [],
      "include_colab_link": true
    },
    "kernelspec": {
      "name": "python3",
      "display_name": "Python 3"
    }
  },
  "cells": [
    {
      "cell_type": "markdown",
      "metadata": {
        "id": "view-in-github",
        "colab_type": "text"
      },
      "source": [
        "<a href=\"https://colab.research.google.com/github/ebisenttt/genetic_algorithm_practice/blob/main/%E6%99%82%E9%96%93%E5%89%B2%E4%BD%9C%E6%88%90_%E9%96%8B%E7%99%BA%E7%92%B0%E5%A2%83.ipynb\" target=\"_parent\"><img src=\"https://colab.research.google.com/assets/colab-badge.svg\" alt=\"Open In Colab\"/></a>"
      ]
    },
    {
      "cell_type": "code",
      "metadata": {
        "colab": {
          "base_uri": "https://localhost:8080/"
        },
        "id": "GKdAwFeEZqRG",
        "outputId": "113b4d22-cbf3-4724-95dc-c213eadec01b"
      },
      "source": [
        "!pip install --upgrade gspread"
      ],
      "execution_count": 2,
      "outputs": [
        {
          "output_type": "stream",
          "text": [
            "Collecting gspread\n",
            "  Downloading https://files.pythonhosted.org/packages/9c/ba/bc8de4f5077bd34bc873bdd67a89cb29c4f181abba8a836d2c6a0a142365/gspread-3.6.0-py3-none-any.whl\n",
            "Requirement already satisfied, skipping upgrade: google-auth-oauthlib>=0.4.1 in /usr/local/lib/python3.6/dist-packages (from gspread) (0.4.2)\n",
            "Requirement already satisfied, skipping upgrade: requests>=2.2.1 in /usr/local/lib/python3.6/dist-packages (from gspread) (2.23.0)\n",
            "Requirement already satisfied, skipping upgrade: google-auth>=1.12.0 in /usr/local/lib/python3.6/dist-packages (from gspread) (1.17.2)\n",
            "Requirement already satisfied, skipping upgrade: requests-oauthlib>=0.7.0 in /usr/local/lib/python3.6/dist-packages (from google-auth-oauthlib>=0.4.1->gspread) (1.3.0)\n",
            "Requirement already satisfied, skipping upgrade: idna<3,>=2.5 in /usr/local/lib/python3.6/dist-packages (from requests>=2.2.1->gspread) (2.10)\n",
            "Requirement already satisfied, skipping upgrade: chardet<4,>=3.0.2 in /usr/local/lib/python3.6/dist-packages (from requests>=2.2.1->gspread) (3.0.4)\n",
            "Requirement already satisfied, skipping upgrade: certifi>=2017.4.17 in /usr/local/lib/python3.6/dist-packages (from requests>=2.2.1->gspread) (2020.12.5)\n",
            "Requirement already satisfied, skipping upgrade: urllib3!=1.25.0,!=1.25.1,<1.26,>=1.21.1 in /usr/local/lib/python3.6/dist-packages (from requests>=2.2.1->gspread) (1.24.3)\n",
            "Requirement already satisfied, skipping upgrade: setuptools>=40.3.0 in /usr/local/lib/python3.6/dist-packages (from google-auth>=1.12.0->gspread) (51.3.3)\n",
            "Requirement already satisfied, skipping upgrade: pyasn1-modules>=0.2.1 in /usr/local/lib/python3.6/dist-packages (from google-auth>=1.12.0->gspread) (0.2.8)\n",
            "Requirement already satisfied, skipping upgrade: six>=1.9.0 in /usr/local/lib/python3.6/dist-packages (from google-auth>=1.12.0->gspread) (1.15.0)\n",
            "Requirement already satisfied, skipping upgrade: cachetools<5.0,>=2.0.0 in /usr/local/lib/python3.6/dist-packages (from google-auth>=1.12.0->gspread) (4.2.1)\n",
            "Requirement already satisfied, skipping upgrade: rsa<5,>=3.1.4; python_version >= \"3\" in /usr/local/lib/python3.6/dist-packages (from google-auth>=1.12.0->gspread) (4.7)\n",
            "Requirement already satisfied, skipping upgrade: oauthlib>=3.0.0 in /usr/local/lib/python3.6/dist-packages (from requests-oauthlib>=0.7.0->google-auth-oauthlib>=0.4.1->gspread) (3.1.0)\n",
            "Requirement already satisfied, skipping upgrade: pyasn1<0.5.0,>=0.4.6 in /usr/local/lib/python3.6/dist-packages (from pyasn1-modules>=0.2.1->google-auth>=1.12.0->gspread) (0.4.8)\n",
            "Installing collected packages: gspread\n",
            "  Found existing installation: gspread 3.0.1\n",
            "    Uninstalling gspread-3.0.1:\n",
            "      Successfully uninstalled gspread-3.0.1\n",
            "Successfully installed gspread-3.6.0\n"
          ],
          "name": "stdout"
        }
      ]
    },
    {
      "cell_type": "code",
      "metadata": {
        "id": "8kTCtab9tMBC"
      },
      "source": [
        "#変数定義\n",
        "classes_per_day = 7\n",
        "\n",
        "#モジュール\n",
        "import random\n",
        "import copy\n",
        "import pprint\n",
        "\n",
        "#spreadsheetの認証\n",
        "from google.colab import auth\n",
        "from oauth2client.client import GoogleCredentials\n",
        "import gspread"
      ],
      "execution_count": 3,
      "outputs": []
    },
    {
      "cell_type": "code",
      "metadata": {
        "id": "vMJEv2zvYjfr"
      },
      "source": [
        "def get_data():\r\n",
        "  auth.authenticate_user()\r\n",
        "  gc = gspread.authorize(GoogleCredentials.get_application_default())\r\n",
        "\r\n",
        "  #spreadsheetの選択\r\n",
        "  ss_id = \"1hUENxvhlvel17hPnegIK7jwBaPkt6YENwc-3hcQvpbM\"\r\n",
        "  workbook = gc.open_by_key(ss_id)\r\n",
        "\r\n",
        "  #希望調査の配列の取得\r\n",
        "  sheet_name = \"data\"\r\n",
        "  worksheet = workbook.worksheet(sheet_name)\r\n",
        "  data = worksheet.get_all_records()\r\n",
        "\r\n",
        "  return data"
      ],
      "execution_count": 4,
      "outputs": []
    },
    {
      "cell_type": "code",
      "metadata": {
        "id": "_nqAE_fccKly"
      },
      "source": [
        "def format_data(data):\r\n",
        "  id_list = []\r\n",
        "  name_list = []\r\n",
        "  sum_list = []\r\n",
        "  questionnaire_list = []\r\n",
        "  schedule_list = []\r\n",
        "  for obj in data:\r\n",
        "    q = []\r\n",
        "    for key, value in obj.items():\r\n",
        "      if key == 'id':\r\n",
        "        id_list.append(value)\r\n",
        "      elif key == 'name':\r\n",
        "        name_list.append(value)\r\n",
        "      elif key == 'sum':\r\n",
        "        sum_list.append(value)\r\n",
        "      elif value=='':\r\n",
        "        q.append(0)\r\n",
        "      else:\r\n",
        "        q.append(value)\r\n",
        "    questionnaire_list.append(q)\r\n",
        "    s = [0 if num != -2 else num for num in q]\r\n",
        "    schedule_list.append(s)\r\n",
        "  \r\n",
        "  return id_list, name_list, sum_list, questionnaire_list, schedule_list"
      ],
      "execution_count": 5,
      "outputs": []
    },
    {
      "cell_type": "code",
      "metadata": {
        "id": "Qo1Q2wiwmq_l"
      },
      "source": [
        "def make_schedule(sum_list, sch_list):\n",
        "  sch_list_copy = copy.deepcopy(sch_list)\n",
        "  for sum, sch in zip(sum_list, sch_list_copy):\n",
        "    while sum != sch.count(1):\n",
        "      rand_num = random.randint(0, len(sch) - 1)\n",
        "      if sum > sch.count(1) and sch[rand_num] == 0:\n",
        "        sch[rand_num] = 1\n",
        "      elif sum < sch.count(1) and sch[rand_num] == 1:\n",
        "        sch[rand_num] = 0\n",
        "      else:\n",
        "        pass\n",
        "  return sch_list_copy"
      ],
      "execution_count": 13,
      "outputs": []
    },
    {
      "cell_type": "code",
      "metadata": {
        "id": "fhjZ39xBVGfS"
      },
      "source": [
        "def evaluate_schedule(q_list, sch_list):\n",
        "  score = 0\n",
        "  for qst, sch in zip(q_list, sch_list):\n",
        "    for q, s in zip(qst, sch):\n",
        "      if s == 1:\n",
        "        if q == -1:\n",
        "          score += -5\n",
        "        elif q == 1:\n",
        "          score += 1\n",
        "        elif q == 2:\n",
        "          score += 3\n",
        "        else:\n",
        "          pass\n",
        "      else:\n",
        "        pass\n",
        "    for i in range(len(sch) - 1):\n",
        "      if sch[i-1] == 1 and sch[i] == 1 and sch[i+1] == 1:\n",
        "        score += -5\n",
        "  return score"
      ],
      "execution_count": 7,
      "outputs": []
    },
    {
      "cell_type": "code",
      "metadata": {
        "id": "wGNVlUAdzk-3"
      },
      "source": [
        "def make_first_generation(sum_list, q_list, sch_list):\n",
        "  parents = []\n",
        "  for i in range(100):\n",
        "    new_sch_list = make_schedule(sum_list, sch_list)\n",
        "    score = evaluate_schedule(q_list, new_sch_list)\n",
        "    parent = {\n",
        "        \"score\": score,\n",
        "        \"schedule_list\": new_sch_list\n",
        "    }\n",
        "    parents.append(parent)\n",
        "  parents.sort(key = lambda parent: parent[\"score\"], reverse=True)\n",
        "\n",
        "  return parents[0:20]"
      ],
      "execution_count": 66,
      "outputs": []
    },
    {
      "cell_type": "code",
      "metadata": {
        "id": "0G6naf3ILmf9"
      },
      "source": [
        "def crossover(parent0, parent1):\n",
        "  child0 = []\n",
        "  child1 = []\n",
        "  for num0, num1 in zip(parent0, parent1):\n",
        "    if num0 == num1:\n",
        "      child0.append(num0)\n",
        "      child1.append(num1)\n",
        "    else:\n",
        "      rand_num = random.randint(0,1)\n",
        "      child0.append(rand_num)\n",
        "      child1.append(1^rand_num)\n",
        "  return child0, child1"
      ],
      "execution_count": 41,
      "outputs": []
    },
    {
      "cell_type": "code",
      "metadata": {
        "id": "eqC3tev4KfQG"
      },
      "source": [
        "def mutation(sch_list):\n",
        "  rand_mutate = random.randint(0,20)\n",
        "  if rand_mutate == 0:\n",
        "    cnt = 0\n",
        "    num = len(sch_list)*0.1\n",
        "    while num > cnt:\n",
        "      rand_num = random.randint(0, len(sch_list)-1)\n",
        "      s = sch_list[rand_num]\n",
        "      rand_select = random.randint(0, len(sch_list)-1)\n",
        "      if s[rand_select] == 1:\n",
        "        s[rand_select] = 0\n",
        "        cnt += 1\n",
        "      elif s[rand_select] == 0:\n",
        "        s[rand_select] = 1\n",
        "        cnt += 1\n",
        "      else:\n",
        "        pass\n",
        "  else:\n",
        "    pass\n",
        "  return sch_list"
      ],
      "execution_count": 22,
      "outputs": []
    },
    {
      "cell_type": "code",
      "metadata": {
        "id": "So6bg-Qd0SjZ"
      },
      "source": [
        "def make_next_generation(generation, sum_list, q_list):\n",
        "  l = len(generation)\n",
        "  old_strongest = generation[0]\n",
        "  new_generation = []\n",
        "  for i in range(l-1):\n",
        "    for j in range(i+1, l):\n",
        "      child0_sl = []\n",
        "      child1_sl = []\n",
        "      parent0_sl = copy.deepcopy(generation[i]['schedule_list'])\n",
        "      parent1_sl = copy.deepcopy(generation[j]['schedule_list'])\n",
        "      for s0, s1 in zip(parent0_sl, parent1_sl):\n",
        "        c0, c1 = crossover(s0, s1)    \n",
        "        child0_sl.append(c0)\n",
        "        child1_sl.append(c1)\n",
        "    children_sl = [child0_sl, child1_sl]\n",
        "    for child_sl in children_sl:\n",
        "      child_sl = mutation(child_sl)\n",
        "      child_sl = make_schedule(sum_list, child_sl)\n",
        "      score = evaluate_schedule(q_list, child_sl)\n",
        "      child = {\n",
        "          \"score\": score,\n",
        "          \"schedule_list\": child_sl\n",
        "      }\n",
        "      new_generation.append(child)\n",
        "  new_generation.sort(key = lambda parent: parent['score'], reverse=True)\n",
        "  new_generation_top = new_generation[0:20]\n",
        "  new_strongest = new_generation_top[0]\n",
        "  if new_strongest['score'] < old_strongest['score']:\n",
        "    new_generation_top.append(old_strongest)\n",
        "    new_generation_top.sort(key = lambda parent: parent['score'], reverse=True)\n",
        "  return new_generation_top"
      ],
      "execution_count": 90,
      "outputs": []
    },
    {
      "cell_type": "code",
      "metadata": {
        "id": "I8Df18dsC74h",
        "colab": {
          "base_uri": "https://localhost:8080/"
        },
        "outputId": "4781c714-5469-42fa-bd8b-3242985caf65"
      },
      "source": [
        "def pp(item):\n",
        "  pprint.pprint(item, width = 200, compact = True)\n",
        "\n",
        "original_data = get_data()\n",
        "id_list, name_list, sum_list, questionnaire_list, schedule_list = format_data(original_data)\n",
        "first_parents = make_first_generation(sum_list, questionnaire_list, schedule_list)\n",
        "next_parents = make_next_generation(first_parents, sum_list, questionnaire_list)\n",
        "cnt = 0 \n",
        "prev_strongest = first_parents[0]\n",
        "strongest = next_parents[0]\n",
        "while cnt < 50:\n",
        "  prev_score = prev_strongest['score']\n",
        "  new_score = strongest['score']\n",
        "  if prev_score == new_score:\n",
        "    cnt += 1\n",
        "  else:\n",
        "    cnt = 0\n",
        "  prev_strongest = copy.deepcopy(next_parents[0])\n",
        "  next_parents = make_next_generation(next_parents, sum_list, questionnaire_list)\n",
        "  strongest = copy.deepcopy(next_parents[0])\n",
        "pp(strongest)"
      ],
      "execution_count": 94,
      "outputs": [
        {
          "output_type": "stream",
          "text": [
            "{'schedule_list': [[1, 1, 0, 1, 0, -2, 0, 1, 0, 0, 1, 0, 0, 0, 0, 0, 0, 0, 1, 1, 0, 0, 0, -2, 0, 0, 1, -2, 1, 0, 1, 1, 0, 1, 1, 0, 1, 0, 0, 0, 1, 0],\n",
            "                   [0, 1, 0, 0, 1, 0, 0, 0, 0, 0, 1, 0, 1, 0, 0, 0, 1, 1, 1, 0, 1, 0, 0, 0, 1, 0, 1, 0, -2, 0, 1, 0, 0, 0, 1, -2, 0, 1, 0, 1, 0, 1],\n",
            "                   [0, 0, 0, 0, 1, 1, 0, 1, 0, 0, 0, 0, 0, 1, 1, 0, -2, 1, 0, 0, 0, 0, 1, 1, 0, 1, 0, 0, -2, 1, 0, 1, 1, 0, 0, 0, 0, 0, 1, 0, 0, 1],\n",
            "                   [0, 1, 0, 1, 0, 0, 1, 0, 0, 1, 0, 0, 0, 0, 1, 1, 0, 0, 0, 0, 0, 0, 0, 0, 1, 0, 1, 0, 0, 0, 0, 0, -2, 0, 1, 0, 0, 0, 0, 1, 1, 0],\n",
            "                   [0, 0, 0, 0, 0, -2, 1, 0, 0, 0, 0, 0, 0, 1, 0, 0, 0, 0, 0, 0, 0, 0, 0, 0, 0, 0, 0, 0, 0, 1, 0, 0, 0, 0, 1, 0, 0, 0, 0, 1, -2, -2],\n",
            "                   [0, 0, 0, 0, -2, 1, 0, -2, 0, 0, 1, 0, 0, 0, 0, 1, 0, 0, 0, 0, 1, 0, 0, 0, 0, 0, 0, -2, 0, 1, -2, 0, -2, 0, 0, -2, 0, 0, -2, 0, 0, 0]],\n",
            " 'score': 85}\n"
          ],
          "name": "stdout"
        }
      ]
    }
  ]
}